{
  "nbformat": 4,
  "nbformat_minor": 0,
  "metadata": {
    "colab": {
      "provenance": [],
      "authorship_tag": "ABX9TyPvDAM1D8O3KdYsTS3xDXDf",
      "include_colab_link": true
    },
    "kernelspec": {
      "name": "python3",
      "display_name": "Python 3"
    },
    "language_info": {
      "name": "python"
    }
  },
  "cells": [
    {
      "cell_type": "markdown",
      "metadata": {
        "id": "view-in-github",
        "colab_type": "text"
      },
      "source": [
        "<a href=\"https://colab.research.google.com/github/HarlMelendez/58009-DSAA/blob/main/Midterm_Exam.ipynb\" target=\"_parent\"><img src=\"https://colab.research.google.com/assets/colab-badge.svg\" alt=\"Open In Colab\"/></a>"
      ]
    },
    {
      "cell_type": "code",
      "execution_count": 12,
      "metadata": {
        "colab": {
          "base_uri": "https://localhost:8080/"
        },
        "id": "0qSX-GfblYfm",
        "outputId": "f04c246f-2915-4269-9313-d503e3859dc6"
      },
      "outputs": [
        {
          "output_type": "stream",
          "name": "stdout",
          "text": [
            "EDG: [{'A', 'B'}, {'B', 'C'}, {'B', 'E'}, {'F', 'B'}, {'C', 'D'}, {'C', 'E'}, {'F', 'C'}, {'C', 'I'}, {'C', 'M'}, {'K', 'D'}, {'L', 'D'}, {'N', 'E'}, {'F', 'G'}, {'F', 'I'}, {'G', 'I'}, {'J', 'G'}, {'J', 'I'}, {'I', 'K'}, {'J', 'K'}, {'M', 'L'}, {'P', 'L'}, {'N', 'M'}, {'M', 'O'}, {'P', 'M'}, {'N', 'O'}, {'P', 'O'}]\n",
            "VRTS: ['A', 'B', 'C', 'D', 'E', 'F', 'G', 'I', 'J', 'K', 'L', 'M', 'N', 'O', 'P']\n"
          ]
        }
      ],
      "source": [
        "class graph:\n",
        "   def __init__(self,gdict=None):\n",
        "      if gdict is None:\n",
        "         gdict = {}\n",
        "      self.gdict = gdict\n",
        "\n",
        "   def edges(self):\n",
        "      return self.findedges()\n",
        "\n",
        "   def findedges(self):\n",
        "      edgename = []\n",
        "      for vrtx in self.gdict:\n",
        "         for nxtvrtx in self.gdict[vrtx]:\n",
        "            if {nxtvrtx, vrtx} not in edgename:\n",
        "               edgename.append({vrtx, nxtvrtx})\n",
        "      return edgename\n",
        "\n",
        "   def getvertices(self):\n",
        "      return list (self.gdict.keys())\n",
        "\n",
        "# Create the dictionary with graph elements\n",
        "graph_elements = {\n",
        "    \"A\" : [\"B\"],\n",
        "    \"B\" : [\"A\", \"C\", \"E\", \"F\"],\n",
        "    \"C\" : [\"B\", \"D\", \"E\", \"F\", \"I\", \"M\"],\n",
        "    \"D\" : [\"C\", \"K\", \"L\"],\n",
        "    \"E\" : [\"B\", \"C\", \"N\"],\n",
        "    \"F\" : [\"B\", \"C\", \"G\", \"I\"],\n",
        "    \"G\" : [\"F\", \"I\", \"J\"],\n",
        "    \"I\" : [\"C\", \"F\", \"G\", \"J\", \"K\"],\n",
        "    \"J\" : [\"G\", \"I\", \"K\"],\n",
        "    \"K\" : [\"D\", \"I\", \"J\"],\n",
        "    \"L\" : [\"D\", \"M\", \"P\"],\n",
        "    \"M\" : [\"C\", \"L\", \"N\", \"O\", \"P\"],\n",
        "    \"N\" : [\"E\", \"M\", \"O\"],\n",
        "    \"O\" : [\"M\", \"N\", \"P\"],\n",
        "    \"P\" : [\"L\", \"M\", \"O\"],\n",
        "}\n",
        "g = graph(graph_elements)\n",
        "print(\"EDG:\", g.edges())\n",
        "print(\"VRTS:\", g.getvertices())\n"
      ]
    }
  ]
}