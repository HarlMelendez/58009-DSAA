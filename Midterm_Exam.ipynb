{
  "nbformat": 4,
  "nbformat_minor": 0,
  "metadata": {
    "colab": {
      "provenance": [],
      "authorship_tag": "ABX9TyPJDtHRjirXcrl8a4PV8dDF",
      "include_colab_link": true
    },
    "kernelspec": {
      "name": "python3",
      "display_name": "Python 3"
    },
    "language_info": {
      "name": "python"
    }
  },
  "cells": [
    {
      "cell_type": "markdown",
      "metadata": {
        "id": "view-in-github",
        "colab_type": "text"
      },
      "source": [
        "<a href=\"https://colab.research.google.com/github/HarlMelendez/58009-DSAA/blob/main/Midterm_Exam.ipynb\" target=\"_parent\"><img src=\"https://colab.research.google.com/assets/colab-badge.svg\" alt=\"Open In Colab\"/></a>"
      ]
    },
    {
      "cell_type": "code",
      "execution_count": 1,
      "metadata": {
        "colab": {
          "base_uri": "https://localhost:8080/"
        },
        "id": "bMjhYjJ1djRP",
        "outputId": "55e64748-9b30-4d5b-90ec-d3e30df8ea6f"
      },
      "outputs": [
        {
          "output_type": "stream",
          "name": "stdout",
          "text": [
            "Edges: [{'A', 'B'}, {'C', 'B'}, {'E', 'B'}, {'F', 'B'}, {'C', 'D'}, {'E', 'C'}, {'C', 'F'}, {'I', 'C'}, {'M', 'C'}, {'K', 'D'}, {'L', 'D'}, {'N', 'E'}, {'G', 'F'}, {'I', 'F'}, {'I', 'G'}, {'J', 'G'}, {'I', 'J'}, {'I', 'K'}, {'K', 'J'}, {'L', 'M'}, {'L', 'P'}, {'M', 'N'}, {'M', 'O'}, {'P', 'M'}, {'N', 'O'}, {'P', 'O'}] \n",
            "\n",
            "Vertices: ['A', 'B', 'C', 'D', 'E', 'F', 'G', 'I', 'J', 'K', 'L', 'M', 'N', 'O', 'P']\n"
          ]
        }
      ],
      "source": [
        "class graph:\n",
        "  def __init__(self,gdict=None):\n",
        "    if gdict is None:\n",
        "      gdict = []\n",
        "    self.gdict = gdict\n",
        "\n",
        "  def edges(self):\n",
        "    return self.Edges()\n",
        "\n",
        "  def Edges(self):\n",
        "    edgename = []\n",
        "    for v in self.gdict:\n",
        "      for nv in self.gdict[v]:\n",
        "        if {nv, v} not in edgename:\n",
        "          edgename.append({v, nv})\n",
        "    return edgename\n",
        "\n",
        "  def getvertices(self):\n",
        "    return list(self.gdict.keys())\n",
        "\n",
        "elements = {\n",
        "    \"A\" : [\"B\"],\n",
        "    \"B\" : [\"A\", \"C\", \"E\", \"F\"],\n",
        "    \"C\" : [\"B\", \"D\", \"E\", \"F\", \"I\", \"M\"],\n",
        "    \"D\" : [\"C\", \"K\", \"L\"],\n",
        "    \"E\" : [\"B\", \"C\", \"N\"],\n",
        "    \"F\" : [\"B\", \"C\", \"G\", \"I\"],\n",
        "    \"G\" : [\"F\", \"I\", \"J\"],\n",
        "    \"I\" : [\"C\", \"F\", \"G\", \"J\", \"K\"],\n",
        "    \"J\" : [\"G\", \"I\", \"K\"],\n",
        "    \"K\" : [\"D\", \"I\", \"J\"],\n",
        "    \"L\" : [\"D\", \"M\", \"P\"],\n",
        "    \"M\" : [\"C\", \"L\", \"N\", \"O\", \"P\"],\n",
        "    \"N\" : [\"E\", \"M\", \"O\"],\n",
        "    \"O\" : [\"M\", \"N\", \"P\"],\n",
        "    \"P\" : [\"L\", \"M\", \"O\"],\n",
        "}\n",
        "\n",
        "x = graph(elements)\n",
        "print(\"Edges:\", x.edges(), \"\\n\")\n",
        "print(\"Vertices:\", x.getvertices())"
      ]
    }
  ]
}