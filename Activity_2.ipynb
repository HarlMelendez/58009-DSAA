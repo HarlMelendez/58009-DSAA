{
  "nbformat": 4,
  "nbformat_minor": 0,
  "metadata": {
    "colab": {
      "provenance": [],
      "authorship_tag": "ABX9TyNTqejH4ihGyT+PXXEHJ+rA",
      "include_colab_link": true
    },
    "kernelspec": {
      "name": "python3",
      "display_name": "Python 3"
    },
    "language_info": {
      "name": "python"
    }
  },
  "cells": [
    {
      "cell_type": "markdown",
      "metadata": {
        "id": "view-in-github",
        "colab_type": "text"
      },
      "source": [
        "<a href=\"https://colab.research.google.com/github/HarlMelendez/58009-DSAA/blob/main/Activity_2.ipynb\" target=\"_parent\"><img src=\"https://colab.research.google.com/assets/colab-badge.svg\" alt=\"Open In Colab\"/></a>"
      ]
    },
    {
      "cell_type": "code",
      "execution_count": null,
      "metadata": {
        "colab": {
          "base_uri": "https://localhost:8080/"
        },
        "id": "OVOewLZtZ1wp",
        "outputId": "76305ec5-8c29-41cd-8ae1-6ff1c1f4e8e5"
      },
      "outputs": [
        {
          "output_type": "stream",
          "name": "stdout",
          "text": [
            "Prime Numbers:  [2, 3, 5, 7, 11, 13, 17, 19]\n",
            "Head:  2\n",
            "Tail:  19\n"
          ]
        }
      ],
      "source": [
        "class Node:\n",
        "  def __init__(self, data):\n",
        "    self.data = data\n",
        "    self.next = None\n",
        "\n",
        "def is_prime(num):\n",
        "  if num <= 1:\n",
        "    return False\n",
        "  if num <= 3:\n",
        "    return True\n",
        "  if num % 2 == 0 or num % 3 == 0:\n",
        "    return False\n",
        "  i = 5\n",
        "  while i * i <= num:\n",
        "    if num % i == 0 or num % (i + 2) == 0:\n",
        "      return False\n",
        "    i += 6\n",
        "  return True\n",
        "\n",
        "def create_prime_linked_list(limit):\n",
        "    head = None\n",
        "    tail = None\n",
        "\n",
        "    for i in range (2, limit):\n",
        "      if is_prime(i):\n",
        "        new_node = Node(i)\n",
        "        if not head:\n",
        "          head = new_node\n",
        "          tail = new_node\n",
        "        else:\n",
        "          tail.next = new_node\n",
        "          tail = new_node\n",
        "\n",
        "    return head, tail\n",
        "\n",
        "def display_linked_list(head, tail):\n",
        "    current = head\n",
        "    prime_numbers = []\n",
        "\n",
        "    while current:\n",
        "      prime_numbers.append(current.data)\n",
        "      current = current.next\n",
        "\n",
        "    print (\"Prime Numbers: \", prime_numbers)\n",
        "    print(\"Head: \", head.data if head else \"None\")\n",
        "    print(\"Tail: \", tail.data if tail else \"None\")\n",
        "\n",
        "if __name__ == \"__main__\":\n",
        "  limit = 20\n",
        "  head, tail = create_prime_linked_list(limit)\n",
        "  display_linked_list(head, tail)\n"
      ]
    }
  ]
}