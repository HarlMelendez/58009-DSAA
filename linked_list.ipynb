{
  "nbformat": 4,
  "nbformat_minor": 0,
  "metadata": {
    "colab": {
      "provenance": [],
      "authorship_tag": "ABX9TyO+NPiZUF4n1e+KTNoA3H78",
      "include_colab_link": true
    },
    "kernelspec": {
      "name": "python3",
      "display_name": "Python 3"
    },
    "language_info": {
      "name": "python"
    }
  },
  "cells": [
    {
      "cell_type": "markdown",
      "metadata": {
        "id": "view-in-github",
        "colab_type": "text"
      },
      "source": [
        "<a href=\"https://colab.research.google.com/github/HarlMelendez/58009-DSAA/blob/main/linked_list.ipynb\" target=\"_parent\"><img src=\"https://colab.research.google.com/assets/colab-badge.svg\" alt=\"Open In Colab\"/></a>"
      ]
    },
    {
      "cell_type": "code",
      "execution_count": null,
      "metadata": {
        "id": "ZIvmIrKsXO8G"
      },
      "outputs": [],
      "source": [
        "# A simple Python program to introduce alinked list\n",
        "# Node class\n",
        "class Node:\n",
        "\t# Function to initialize the node object\n",
        "\tdef __init__(self, data):\n",
        "\t\tself.data = data # Assign data\n",
        "\t\tself.next = None # Initialize next as null\n",
        "# Linked List class contains a Node object\n",
        "class LinkedList:\n",
        "\t# Function to initialize head\n",
        "\tdef __init__(self):\n",
        "\t\tself.head = None\n",
        "\n",
        "def printlist(self):\n",
        "    temp = self.head\n",
        "    while temp:\n",
        "        print(temp.data)\n",
        "        temp = temp.next\n",
        "    llist.printlist()"
      ]
    },
    {
      "cell_type": "code",
      "source": [
        "import array\n",
        "\n",
        "array.typecodes #get all typecodes\n",
        "a = array.array('i', [1,2,3,4,5,6]) #initializing array a\n",
        "b = array.array('f', [1.5,2.5,3.5,4.5,5.5,6.5]) #initializing array b\n",
        "\n",
        "a.typecode #getting the typecode of a\n",
        "b.typecode #getting the typecode of b\n",
        "Jeus Miguel\n",
        "Jeus Miguel Manigbas\n",
        "import array\n",
        "array.typecodes\n",
        "a = array.array('i',[1,2,3,4,5,6])\n",
        "b = str('f')\n",
        "\n",
        "a.typecode\n",
        "print(a)\n",
        "a = array.array(b, [1,2,3,4,5,6])\n",
        "\n",
        "a.typecode\n",
        "print(a)"
      ],
      "metadata": {
        "id": "3QzLuIYkYlmz"
      },
      "execution_count": null,
      "outputs": []
    },
    {
      "cell_type": "code",
      "source": [
        "import array\n",
        "array.typecodes\n",
        "a = array.array('i',[1,2,3,4,5,6])\n",
        "b = str('f')\n",
        "\n",
        "a.typecode\n",
        "print(a)\n",
        "a = array.array(b, [1,2,3,4,5,6])\n",
        "\n",
        "a.typecode\n",
        "print(a)"
      ],
      "metadata": {
        "id": "h21stYpXYoDy"
      },
      "execution_count": null,
      "outputs": []
    },
    {
      "cell_type": "code",
      "source": [
        "from array import array # importing array from array module\n",
        "\n",
        "a= array('i',[4,5,6,7]) # initializing array\n",
        "a.insert(1,2) # inserting element: 2 at index: 1\n",
        "a # Printing array a\n",
        "array('i', [4, 2, 5, 6, 7])\n",
        "a.insert(-1,0) # insert element: 0 at index: -1\n",
        "a\n",
        "a.insert(10, -1) # insert element: -1 at index: 10, this is out of range\n",
        "a\n",
        "array('i', [4, 2, 5, 6, 0, 7, -1])"
      ],
      "metadata": {
        "id": "BWcaV2r-YsbS"
      },
      "execution_count": null,
      "outputs": []
    },
    {
      "cell_type": "code",
      "source": [
        "# Node class\n",
        "class Node:\n",
        "    # Function to initialize the node object\n",
        "    def __init__(self, data):\n",
        "        self.data = data  # Assign data\n",
        "        self.next = None  # Initialize next as null\n",
        "\n",
        "# Linked List class contains a Node object\n",
        "class LinkedList:\n",
        "    # Function to initialize head\n",
        "    def __init__(self):\n",
        "        self.head = None\n",
        "\n",
        "    # Function to print the linked list\n",
        "    def print_list(self):\n",
        "        temp = self.head\n",
        "        while temp:\n",
        "            print(temp.data)\n",
        "            temp = temp.next\n",
        "\n",
        "# Usage example:\n",
        "if _name_ == \"_main_\":\n",
        "    # Create a linked list\n",
        "    llist = LinkedList()\n",
        "\n",
        "    # Add some elements to the linked list\n",
        "    llist.head = Node(1)\n",
        "    second = Node(2)\n",
        "    third = Node(3)\n",
        "\n",
        "    llist.head.next = second\n",
        "    second.next = third\n",
        "\n",
        "    # Print the linked list\n",
        "    llist.print_list()"
      ],
      "metadata": {
        "id": "FbaBS6vcYv2S"
      },
      "execution_count": null,
      "outputs": []
    },
    {
      "cell_type": "code",
      "source": [
        "class Node:\n",
        "    def __init__(self, data):\n",
        "        self.data = data\n",
        "        self.next = None\n",
        "\n",
        "class DoublyLinkedList:\n",
        "    def __init__(self):\n",
        "        self.head = None\n",
        "\n",
        "    def push(self, new_data):\n",
        "        new_node = Node(new_data)\n",
        "        new_node.next = self.head\n",
        "\n",
        "        if self.head is not None:\n",
        "            self.head.prev = new_node\n",
        "        self.head = new_node\n",
        "\n",
        "    def append(self, new_data):\n",
        "        new_node = Node(new_data)\n",
        "        new_node.next = None\n",
        "\n",
        "        if self.head is None:\n",
        "            new_node.prev = None\n",
        "            self.head = new_node\n",
        "            return\n",
        "\n",
        "        last = self.head\n",
        "        while last.next is not None:\n",
        "            last = last.next\n",
        "        last.next = new_node\n",
        "        new_node.prev = last\n",
        "\n",
        "    def list_print(self, node):\n",
        "        while node is not None:\n",
        "            print(node.data)\n",
        "            last = node\n",
        "            node = node.next\n",
        "\n",
        "dllist = DoublyLinkedList()\n",
        "\n",
        "dllist.push(3)\n",
        "dllist.append(2)\n",
        "dllist.push(2)\n",
        "dllist.push(1)\n",
        "dllist.append(1)\n",
        "dllist.list_print(dllist.head)"
      ],
      "metadata": {
        "id": "_bMXmffaYyau"
      },
      "execution_count": null,
      "outputs": []
    }
  ]
}