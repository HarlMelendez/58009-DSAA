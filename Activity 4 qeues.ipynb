{
  "nbformat": 4,
  "nbformat_minor": 0,
  "metadata": {
    "colab": {
      "provenance": [],
      "authorship_tag": "ABX9TyP0EhDqGxS5bR1cZfLNMUIR",
      "include_colab_link": true
    },
    "kernelspec": {
      "name": "python3",
      "display_name": "Python 3"
    },
    "language_info": {
      "name": "python"
    }
  },
  "cells": [
    {
      "cell_type": "markdown",
      "metadata": {
        "id": "view-in-github",
        "colab_type": "text"
      },
      "source": [
        "<a href=\"https://colab.research.google.com/github/HarlMelendez/58009-DSAA/blob/main/Activity%204%20qeues.ipynb\" target=\"_parent\"><img src=\"https://colab.research.google.com/assets/colab-badge.svg\" alt=\"Open In Colab\"/></a>"
      ]
    },
    {
      "cell_type": "code",
      "execution_count": null,
      "metadata": {
        "colab": {
          "base_uri": "https://localhost:8080/"
        },
        "id": "Ro1GkATNnf_c",
        "outputId": "79d589b0-e904-4b74-d8d0-ebd6679f4de7"
      },
      "outputs": [
        {
          "output_type": "stream",
          "name": "stdout",
          "text": [
            "['A', 'B', 'c']\n",
            "A\n",
            "B\n",
            "['c']\n"
          ]
        }
      ],
      "source": [
        "queue = []\n",
        "\n",
        "#enqueue items into queue\n",
        "\n",
        "queue.append ('A')\n",
        "\n",
        "queue.append ('B')\n",
        "\n",
        "queue.append ('c')\n",
        "\n",
        "print (queue)\n",
        "\n",
        "#dequeue items from the queue\n",
        "\n",
        "print (queue.pop(0))\n",
        "\n",
        "print (queue.pop(0))\n",
        "\n",
        "print (queue)"
      ]
    },
    {
      "cell_type": "code",
      "source": [
        "vape_category = []\n",
        "\n",
        "#enqueue items into queue\n",
        "\n",
        "vape_category.append ('Menthol')\n",
        "\n",
        "vape_category.append ('Fruity')\n",
        "\n",
        "vape_category.append ('Pastry')\n",
        "\n",
        "print (\"Categories of Vape juice: \", vape_category)\n",
        "\n",
        "#dequeue items from the queue\n",
        "\n",
        "print (\"\\nThank you for choosing: \",vape_category.pop(0))\n",
        "\n",
        "print (\"\\nWant more? try this!: \",vape_category)"
      ],
      "metadata": {
        "colab": {
          "base_uri": "https://localhost:8080/"
        },
        "id": "dt0cw9VGqcRS",
        "outputId": "6056ab52-6c34-40c1-c116-9f45f96d4639"
      },
      "execution_count": null,
      "outputs": [
        {
          "output_type": "stream",
          "name": "stdout",
          "text": [
            "Categories of Vape juice:  ['Menthol', 'Fruity', 'Pastry']\n",
            "\n",
            "Thank you for choosing:  Menthol\n",
            "\n",
            "Want more? try this!:  ['Fruity', 'Pastry']\n"
          ]
        }
      ]
    }
  ]
}