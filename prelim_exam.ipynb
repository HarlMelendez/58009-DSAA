{
  "nbformat": 4,
  "nbformat_minor": 0,
  "metadata": {
    "colab": {
      "provenance": [],
      "authorship_tag": "ABX9TyPpGIGI7b8YDnU5Hx0dI7Qk",
      "include_colab_link": true
    },
    "kernelspec": {
      "name": "python3",
      "display_name": "Python 3"
    },
    "language_info": {
      "name": "python"
    }
  },
  "cells": [
    {
      "cell_type": "markdown",
      "metadata": {
        "id": "view-in-github",
        "colab_type": "text"
      },
      "source": [
        "<a href=\"https://colab.research.google.com/github/HarlMelendez/58009-DSAA/blob/main/prelim_exam.ipynb\" target=\"_parent\"><img src=\"https://colab.research.google.com/assets/colab-badge.svg\" alt=\"Open In Colab\"/></a>"
      ]
    },
    {
      "cell_type": "code",
      "execution_count": 12,
      "metadata": {
        "colab": {
          "base_uri": "https://localhost:8080/"
        },
        "id": "ZTYKTJ3v5dUl",
        "outputId": "46f54726-e990-405d-ed03-02bddbf813b8"
      },
      "outputs": [
        {
          "output_type": "stream",
          "name": "stdout",
          "text": [
            "Scores from the test:  [26, 49, 98, 87, 62, 75]\n",
            "\n",
            "Ascending score in order: [26, 49, 62, 75, 87, 98]\n",
            "\n",
            "Summation of the test: 397\n"
          ]
        }
      ],
      "source": [
        "scores = [26, 49, 98, 87, 62, 75]\n",
        "\n",
        "sorted_scores = sorted(scores)\n",
        "\n",
        "final_score = sum(scores)\n",
        "\n",
        "print(\"Scores from the test: \", scores)\n",
        "\n",
        "print(\"\\nAscending score in order:\", sorted_scores)\n",
        "\n",
        "print(\"\\nSummation of the test:\", final_score)"
      ]
    }
  ]
}