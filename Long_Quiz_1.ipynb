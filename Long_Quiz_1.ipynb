{
  "nbformat": 4,
  "nbformat_minor": 0,
  "metadata": {
    "colab": {
      "provenance": [],
      "authorship_tag": "ABX9TyP8zztW7zBrdLrJsvuZgE0R",
      "include_colab_link": true
    },
    "kernelspec": {
      "name": "python3",
      "display_name": "Python 3"
    },
    "language_info": {
      "name": "python"
    }
  },
  "cells": [
    {
      "cell_type": "markdown",
      "metadata": {
        "id": "view-in-github",
        "colab_type": "text"
      },
      "source": [
        "<a href=\"https://colab.research.google.com/github/HarlMelendez/58009-DSAA/blob/main/Long_Quiz_1.ipynb\" target=\"_parent\"><img src=\"https://colab.research.google.com/assets/colab-badge.svg\" alt=\"Open In Colab\"/></a>"
      ]
    },
    {
      "cell_type": "code",
      "execution_count": 20,
      "metadata": {
        "colab": {
          "base_uri": "https://localhost:8080/"
        },
        "id": "kZ0u9k_n7FTR",
        "outputId": "c4628e4e-9315-455e-8b63-7dc2fd961113"
      },
      "outputs": [
        {
          "output_type": "stream",
          "name": "stdout",
          "text": [
            "Enter your full name: Harl Stephen Kong Melendez\n",
            "z\n",
            "e\n",
            "d\n",
            "n\n",
            "e\n",
            "l\n",
            "e\n",
            "M\n",
            " \n",
            "g\n",
            "n\n",
            "o\n",
            "K\n",
            " \n",
            "n\n",
            "e\n",
            "h\n",
            "p\n",
            "e\n",
            "t\n",
            "S\n",
            " \n",
            "l\n",
            "r\n",
            "a\n",
            "H\n"
          ]
        }
      ],
      "source": [
        "Harl_Fname = input(\"Enter your full name: \")\n",
        "\n",
        "F_name = []\n",
        "\n",
        "for char in Harl_Fname:\n",
        "    F_name.append(char)\n",
        "\n",
        "for char in reversed(F_name):\n",
        "    print(char)"
      ]
    },
    {
      "cell_type": "code",
      "source": [
        "def is_prime(Wnumber):\n",
        "    if Wnumber <= 1:\n",
        "        return \"Neither\"\n",
        "    if Wnumber <= 3:\n",
        "        return \"Prime\"\n",
        "    if Wnumber % 2 == 0 or Wnumber % 3 == 0:\n",
        "        return \"Composite\"\n",
        "    i = 5\n",
        "    while i * i <= Wnumber:\n",
        "        if Wnumber % i == 0 or Wnumber % (i + 2) == 0:\n",
        "            return \"Composite\"\n",
        "        i += 6\n",
        "    return \"Prime\"\n",
        "\n",
        "Whole_numbers = [1, 2, 3, 4, 5, 6, 7, 8, 9, 10]\n",
        "\n",
        "print(\"Whole Numbers: \", Whole_numbers)\n",
        "\n",
        "prime_numbers = []\n",
        "composite_numbers = []\n",
        "neither_numbers = []\n",
        "\n",
        "for number in Whole_numbers:\n",
        "    result = is_prime(number)\n",
        "    if result == \"Prime\":\n",
        "        prime_numbers.append(number)\n",
        "    elif result == \"Composite\":\n",
        "        composite_numbers.append(number)\n",
        "    else:\n",
        "        neither_numbers.append(number)\n",
        "\n",
        "print(\"\\nneither number:\", neither_numbers)\n",
        "for number in neither_numbers:\n",
        "    print(end= '')\n",
        "\n",
        "print(\"\\nPrime numbers:\", prime_numbers)\n",
        "for number in prime_numbers:\n",
        "    print(end= '')\n",
        "\n",
        "print(\"\\nComposite numbers:\", composite_numbers)\n",
        "for number in composite_numbers:\n",
        "    print(end= '')\n"
      ],
      "metadata": {
        "colab": {
          "base_uri": "https://localhost:8080/"
        },
        "id": "VDmAbvQtKnlj",
        "outputId": "8e87f41e-03e5-4ee9-c469-7304f4d0fa00"
      },
      "execution_count": 60,
      "outputs": [
        {
          "output_type": "stream",
          "name": "stdout",
          "text": [
            "Whole Numbers:  [1, 2, 3, 4, 5, 6, 7, 8, 9, 10]\n",
            "\n",
            "neither number: [1]\n",
            "\n",
            "Prime numbers: [2, 3, 5, 7]\n",
            "\n",
            "Composite numbers: [4, 6, 8, 9, 10]\n"
          ]
        }
      ]
    }
  ]
}