{
  "nbformat": 4,
  "nbformat_minor": 0,
  "metadata": {
    "colab": {
      "provenance": [],
      "authorship_tag": "ABX9TyPjYfmiDyqaoxXsLaWs8Zf1",
      "include_colab_link": true
    },
    "kernelspec": {
      "name": "python3",
      "display_name": "Python 3"
    },
    "language_info": {
      "name": "python"
    }
  },
  "cells": [
    {
      "cell_type": "markdown",
      "metadata": {
        "id": "view-in-github",
        "colab_type": "text"
      },
      "source": [
        "<a href=\"https://colab.research.google.com/github/HarlMelendez/58009-DSAA/blob/main/Activity_7.ipynb\" target=\"_parent\"><img src=\"https://colab.research.google.com/assets/colab-badge.svg\" alt=\"Open In Colab\"/></a>"
      ]
    },
    {
      "cell_type": "code",
      "execution_count": 5,
      "metadata": {
        "colab": {
          "base_uri": "https://localhost:8080/"
        },
        "id": "53n86gcpOGqq",
        "outputId": "01367ede-bb5e-42b4-94f0-6d3bbcab9e27"
      },
      "outputs": [
        {
          "output_type": "stream",
          "name": "stdout",
          "text": [
            "[{2, '1'}, {3, '1'}, {'1', 5}, {'1', 6}, {1, '2'}, {3, '2'}, {'2', 5}, {'2', 4}, {'2', 6}, {1, '3'}, {2, '3'}, {4, '3'}, {5, '3'}, {2, '4'}, {3, '4'}, {1, '5'}, {2, '5'}, {3, '5'}, {1, '6'}, {2, '6'}]\n",
            "Length:  20\n"
          ]
        }
      ],
      "source": [
        "#Display Graph Edges\n",
        "\n",
        "class graph:\n",
        "   def __init__(self,gdict=None):\n",
        "      if gdict is None:\n",
        "         gdict = {}\n",
        "      self.gdict = gdict\n",
        "\n",
        "   def edges(self):\n",
        "      return self.findedges()\n",
        "# Find the distinct list of edges\n",
        "   def findedges(self):\n",
        "      edgename = []\n",
        "      for vrtx in self.gdict:\n",
        "         for nxtvrtx in self.gdict[vrtx]:\n",
        "            if {nxtvrtx, vrtx} not in edgename:\n",
        "               edgename.append({vrtx, nxtvrtx})\n",
        "      return edgename\n",
        "# Create the dictionary with graph elements\n",
        "graph_elements = {\n",
        "   \"1\" : [2, 3, 5, 6],\n",
        "   \"2\" : [1, 3, 5, 4, 6],\n",
        "   \"3\" : [1, 2, 4, 5],\n",
        "   \"4\" : [2, 3],\n",
        "   \"5\" : [1, 2, 3],\n",
        "   \"6\" : [1, 2]\n",
        "}\n",
        "g = graph(graph_elements)\n",
        "print(g.edges())\n",
        "print(\"Length: \", len(g.edges()))"
      ]
    },
    {
      "cell_type": "code",
      "source": [
        "#Display Graph Vertices\n",
        "\n",
        "class graph:\n",
        "   def __init__(self,gdict=None):\n",
        "      if gdict is None:\n",
        "         gdict = []\n",
        "      self.gdict = gdict\n",
        "# Get the keys of the dictionary\n",
        "   def getVertices(self):\n",
        "      return list(self.gdict.keys())\n",
        "# Create the dictionary with graph elements\n",
        "graph_elements = {\n",
        "   \"1\" : [2, 3, 5, 6],\n",
        "   \"2\" : [1, 3, 5, 4, 6],\n",
        "   \"3\" : [1, 2, 4, 5],\n",
        "   \"4\" : [2, 3],\n",
        "   \"5\" : [1, 2, 3],\n",
        "   \"6\" : [1, 2]\n",
        "}\n",
        "g = graph(graph_elements)\n",
        "print(g.getVertices())\n",
        "print(\"Length: \", len(g.getVertices()))"
      ],
      "metadata": {
        "colab": {
          "base_uri": "https://localhost:8080/"
        },
        "id": "1lcQHmbUPGiC",
        "outputId": "b92c6209-5c16-4944-fa7c-532ad2baa748"
      },
      "execution_count": 7,
      "outputs": [
        {
          "output_type": "stream",
          "name": "stdout",
          "text": [
            "['1', '2', '3', '4', '5', '6']\n",
            "Length:  6\n"
          ]
        }
      ]
    }
  ]
}