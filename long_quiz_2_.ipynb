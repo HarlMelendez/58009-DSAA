{
  "nbformat": 4,
  "nbformat_minor": 0,
  "metadata": {
    "colab": {
      "provenance": [],
      "authorship_tag": "ABX9TyOE4Ung3ybhRKvTX+dUcuNd",
      "include_colab_link": true
    },
    "kernelspec": {
      "name": "python3",
      "display_name": "Python 3"
    },
    "language_info": {
      "name": "python"
    }
  },
  "cells": [
    {
      "cell_type": "markdown",
      "metadata": {
        "id": "view-in-github",
        "colab_type": "text"
      },
      "source": [
        "<a href=\"https://colab.research.google.com/github/HarlMelendez/58009-DSAA/blob/main/long_quiz_2_.ipynb\" target=\"_parent\"><img src=\"https://colab.research.google.com/assets/colab-badge.svg\" alt=\"Open In Colab\"/></a>"
      ]
    },
    {
      "cell_type": "code",
      "execution_count": 6,
      "metadata": {
        "colab": {
          "base_uri": "https://localhost:8080/"
        },
        "id": "9Fa7dV7ss6n7",
        "outputId": "fe1ca639-144b-4f95-cb8c-513e1a2eaf3e"
      },
      "outputs": [
        {
          "output_type": "stream",
          "name": "stdout",
          "text": [
            "[{'H', 'I'}, {'H', 'J'}, {'H', 'K'}, {'I', 'E'}, {'I', 'F'}, {'J', 'E'}, {'J', 'F'}, {'E', 'K'}, {'F', 'K'}, {'M', 'E'}, {'F', 'P'}]\n",
            "Length:  11\n"
          ]
        }
      ],
      "source": [
        "#Display Graph Edges\n",
        "\n",
        "class graph:\n",
        "   def __init__(self,gdict=None):\n",
        "      if gdict is None:\n",
        "         gdict = {}\n",
        "      self.gdict = gdict\n",
        "\n",
        "   def edges(self):\n",
        "      return self.findedges()\n",
        "# Find the distinct list of edges\n",
        "   def findedges(self):\n",
        "      edgename = []\n",
        "      for vrtx in self.gdict:\n",
        "         for nxtvrtx in self.gdict[vrtx]:\n",
        "            if {nxtvrtx, vrtx} not in edgename:\n",
        "               edgename.append({vrtx, nxtvrtx})\n",
        "      return edgename\n",
        "# Create the dictionary with graph elements\n",
        "graph_elements = {\n",
        "   'E' : ['I', 'M', 'J', 'K'],\n",
        "   'F' : ['J', 'K', 'P', 'I'],\n",
        "   'H' : ['I', 'J', 'K'],\n",
        "   'I' : ['E', 'F', 'H'],\n",
        "   'J' : ['E', 'F', 'H'],\n",
        "   'K' : ['E', 'H', 'F'],\n",
        "   'M' : ['E'],\n",
        "   'P' : ['F']\n",
        "}\n",
        "g = graph(graph_elements)\n",
        "print(g.edges())\n",
        "print(\"Length: \", len(g.edges()))"
      ]
    },
    {
      "cell_type": "code",
      "source": [
        "class graph:\n",
        "   def __init__(self,gdict=None):\n",
        "      if gdict is None:\n",
        "         gdict = []\n",
        "      self.gdict = gdict\n",
        "# Get the keys of the dictionary\n",
        "   def getVertices(self):\n",
        "      return list(self.gdict.keys())\n",
        "# Create the dictionary with graph elements\n",
        "graph_elements = {\n",
        "   'E' : ['I', 'M', 'J', 'K'],\n",
        "   'F' : ['J', 'K', 'P', 'I'],\n",
        "   'H' : ['I', 'J', 'K'],\n",
        "   'I' : ['E', 'F', 'H'],\n",
        "   'J' : ['E', 'F', 'H'],\n",
        "   'K' : ['E', 'H', 'F'],\n",
        "   'M' : ['E'],\n",
        "   'P' : ['F']\n",
        "}\n",
        "g = graph(graph_elements)\n",
        "print(g.getVertices())\n",
        "print(\"Length: \", len(g.getVertices()))\n",
        ""
      ],
      "metadata": {
        "colab": {
          "base_uri": "https://localhost:8080/"
        },
        "id": "MJdJ52SCs7p5",
        "outputId": "270e2452-a9ca-4304-b12d-f22b591b7192"
      },
      "execution_count": 5,
      "outputs": [
        {
          "output_type": "stream",
          "name": "stdout",
          "text": [
            "['H', 'I', 'J', 'K', 'E', 'F', 'M', 'P']\n",
            "Length:  8\n"
          ]
        }
      ]
    }
  ]
}